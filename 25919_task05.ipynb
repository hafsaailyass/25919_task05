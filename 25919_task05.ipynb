{
 "cells": [
  {
   "cell_type": "code",
   "execution_count": 3,
   "id": "d2901be7",
   "metadata": {},
   "outputs": [],
   "source": [
    "import pandas as pd\n",
    "import numpy as np\n",
    "from sklearn.feature_extraction.text import CountVectorizer\n",
    "from sklearn.model_selection import train_test_split\n",
    "from sklearn.naive_bayes import MultinomialNB\n",
    "from sklearn.linear_model import LogisticRegression\n",
    "from sklearn.metrics import classification_report, confusion_matrix\n",
    "from sklearn.tree import DecisionTreeClassifier\n",
    "from PIL import Image\n",
    "import matplotlib.pyplot as plt\n",
    "from sklearn.metrics import precision_score, recall_score, f1_score\n",
    "\n"
   ]
  },
  {
   "cell_type": "code",
   "execution_count": 4,
   "id": "2e40f628",
   "metadata": {},
   "outputs": [
    {
     "data": {
      "text/html": [
       "<div>\n",
       "<style scoped>\n",
       "    .dataframe tbody tr th:only-of-type {\n",
       "        vertical-align: middle;\n",
       "    }\n",
       "\n",
       "    .dataframe tbody tr th {\n",
       "        vertical-align: top;\n",
       "    }\n",
       "\n",
       "    .dataframe thead th {\n",
       "        text-align: right;\n",
       "    }\n",
       "</style>\n",
       "<table border=\"1\" class=\"dataframe\">\n",
       "  <thead>\n",
       "    <tr style=\"text-align: right;\">\n",
       "      <th></th>\n",
       "      <th>Unnamed: 0</th>\n",
       "      <th>title</th>\n",
       "      <th>text</th>\n",
       "      <th>label</th>\n",
       "    </tr>\n",
       "  </thead>\n",
       "  <tbody>\n",
       "    <tr>\n",
       "      <th>0</th>\n",
       "      <td>0</td>\n",
       "      <td>LAW ENFORCEMENT ON HIGH ALERT Following Threat...</td>\n",
       "      <td>No comment is expected from Barack Obama Membe...</td>\n",
       "      <td>1</td>\n",
       "    </tr>\n",
       "    <tr>\n",
       "      <th>1</th>\n",
       "      <td>1</td>\n",
       "      <td>NaN</td>\n",
       "      <td>Did they post their votes for Hillary already?</td>\n",
       "      <td>1</td>\n",
       "    </tr>\n",
       "    <tr>\n",
       "      <th>2</th>\n",
       "      <td>2</td>\n",
       "      <td>UNBELIEVABLE! OBAMA’S ATTORNEY GENERAL SAYS MO...</td>\n",
       "      <td>Now, most of the demonstrators gathered last ...</td>\n",
       "      <td>1</td>\n",
       "    </tr>\n",
       "    <tr>\n",
       "      <th>3</th>\n",
       "      <td>3</td>\n",
       "      <td>Bobby Jindal, raised Hindu, uses story of Chri...</td>\n",
       "      <td>A dozen politically active pastors came here f...</td>\n",
       "      <td>0</td>\n",
       "    </tr>\n",
       "    <tr>\n",
       "      <th>4</th>\n",
       "      <td>4</td>\n",
       "      <td>SATAN 2: Russia unvelis an image of its terrif...</td>\n",
       "      <td>The RS-28 Sarmat missile, dubbed Satan 2, will...</td>\n",
       "      <td>1</td>\n",
       "    </tr>\n",
       "    <tr>\n",
       "      <th>5</th>\n",
       "      <td>5</td>\n",
       "      <td>About Time! Christian Group Sues Amazon and SP...</td>\n",
       "      <td>All we can say on this one is it s about time ...</td>\n",
       "      <td>1</td>\n",
       "    </tr>\n",
       "    <tr>\n",
       "      <th>6</th>\n",
       "      <td>6</td>\n",
       "      <td>DR BEN CARSON TARGETED BY THE IRS: “I never ha...</td>\n",
       "      <td>DR. BEN CARSON TELLS THE STORY OF WHAT HAPPENE...</td>\n",
       "      <td>1</td>\n",
       "    </tr>\n",
       "    <tr>\n",
       "      <th>7</th>\n",
       "      <td>7</td>\n",
       "      <td>HOUSE INTEL CHAIR On Trump-Russia Fake Story: ...</td>\n",
       "      <td></td>\n",
       "      <td>1</td>\n",
       "    </tr>\n",
       "    <tr>\n",
       "      <th>8</th>\n",
       "      <td>8</td>\n",
       "      <td>Sports Bar Owner Bans NFL Games…Will Show Only...</td>\n",
       "      <td>The owner of the Ringling Bar, located south o...</td>\n",
       "      <td>1</td>\n",
       "    </tr>\n",
       "    <tr>\n",
       "      <th>9</th>\n",
       "      <td>9</td>\n",
       "      <td>Latest Pipeline Leak Underscores Dangers Of Da...</td>\n",
       "      <td>FILE – In this Sept. 15, 2005 file photo, the ...</td>\n",
       "      <td>1</td>\n",
       "    </tr>\n",
       "    <tr>\n",
       "      <th>10</th>\n",
       "      <td>10</td>\n",
       "      <td>GOP Senator Just Smacked Down The Most Puncha...</td>\n",
       "      <td>The most punchable Alt-Right Nazi on the inter...</td>\n",
       "      <td>1</td>\n",
       "    </tr>\n",
       "    <tr>\n",
       "      <th>11</th>\n",
       "      <td>11</td>\n",
       "      <td>May Brexit offer would hurt, cost EU citizens ...</td>\n",
       "      <td>BRUSSELS (Reuters) - British Prime Minister Th...</td>\n",
       "      <td>0</td>\n",
       "    </tr>\n",
       "    <tr>\n",
       "      <th>12</th>\n",
       "      <td>12</td>\n",
       "      <td>Schumer calls on Trump to appoint official to ...</td>\n",
       "      <td>WASHINGTON (Reuters) - Charles Schumer, the to...</td>\n",
       "      <td>0</td>\n",
       "    </tr>\n",
       "    <tr>\n",
       "      <th>13</th>\n",
       "      <td>13</td>\n",
       "      <td>WATCH: HILARIOUS AD Calls Into Question Health...</td>\n",
       "      <td>After watching this telling video, you ll wond...</td>\n",
       "      <td>1</td>\n",
       "    </tr>\n",
       "    <tr>\n",
       "      <th>14</th>\n",
       "      <td>14</td>\n",
       "      <td>No Change Expected for ESPN Political Agenda D...</td>\n",
       "      <td>As more and more sports fans turn off ESPN to ...</td>\n",
       "      <td>0</td>\n",
       "    </tr>\n",
       "    <tr>\n",
       "      <th>15</th>\n",
       "      <td>15</td>\n",
       "      <td>Billionaire Odebrecht in Brazil scandal releas...</td>\n",
       "      <td>RIO DE JANEIRO/SAO PAULO (Reuters) - Billionai...</td>\n",
       "      <td>0</td>\n",
       "    </tr>\n",
       "    <tr>\n",
       "      <th>16</th>\n",
       "      <td>16</td>\n",
       "      <td>BRITISH WOMAN LOSES VIRGINITY To Asylum Seekin...</td>\n",
       "      <td>Europe is likely not going to be a top destina...</td>\n",
       "      <td>1</td>\n",
       "    </tr>\n",
       "    <tr>\n",
       "      <th>17</th>\n",
       "      <td>17</td>\n",
       "      <td>U.N. seeks humanitarian pause in Sanaa where s...</td>\n",
       "      <td>GENEVA (Reuters) - The United Nations called o...</td>\n",
       "      <td>0</td>\n",
       "    </tr>\n",
       "    <tr>\n",
       "      <th>18</th>\n",
       "      <td>18</td>\n",
       "      <td>MAJOR LIBERAL RAG RELUCTANTLY PUBLISHES Articl...</td>\n",
       "      <td>The Atlantic, a publication that wouldn t know...</td>\n",
       "      <td>1</td>\n",
       "    </tr>\n",
       "    <tr>\n",
       "      <th>19</th>\n",
       "      <td>19</td>\n",
       "      <td>Second judge says Clinton email setup may have...</td>\n",
       "      <td>NEW YORK (Reuters) - A second federal judge ha...</td>\n",
       "      <td>0</td>\n",
       "    </tr>\n",
       "  </tbody>\n",
       "</table>\n",
       "</div>"
      ],
      "text/plain": [
       "    Unnamed: 0                                              title  \\\n",
       "0            0  LAW ENFORCEMENT ON HIGH ALERT Following Threat...   \n",
       "1            1                                                NaN   \n",
       "2            2  UNBELIEVABLE! OBAMA’S ATTORNEY GENERAL SAYS MO...   \n",
       "3            3  Bobby Jindal, raised Hindu, uses story of Chri...   \n",
       "4            4  SATAN 2: Russia unvelis an image of its terrif...   \n",
       "5            5  About Time! Christian Group Sues Amazon and SP...   \n",
       "6            6  DR BEN CARSON TARGETED BY THE IRS: “I never ha...   \n",
       "7            7  HOUSE INTEL CHAIR On Trump-Russia Fake Story: ...   \n",
       "8            8  Sports Bar Owner Bans NFL Games…Will Show Only...   \n",
       "9            9  Latest Pipeline Leak Underscores Dangers Of Da...   \n",
       "10          10   GOP Senator Just Smacked Down The Most Puncha...   \n",
       "11          11  May Brexit offer would hurt, cost EU citizens ...   \n",
       "12          12  Schumer calls on Trump to appoint official to ...   \n",
       "13          13  WATCH: HILARIOUS AD Calls Into Question Health...   \n",
       "14          14  No Change Expected for ESPN Political Agenda D...   \n",
       "15          15  Billionaire Odebrecht in Brazil scandal releas...   \n",
       "16          16  BRITISH WOMAN LOSES VIRGINITY To Asylum Seekin...   \n",
       "17          17  U.N. seeks humanitarian pause in Sanaa where s...   \n",
       "18          18  MAJOR LIBERAL RAG RELUCTANTLY PUBLISHES Articl...   \n",
       "19          19  Second judge says Clinton email setup may have...   \n",
       "\n",
       "                                                 text  label  \n",
       "0   No comment is expected from Barack Obama Membe...      1  \n",
       "1      Did they post their votes for Hillary already?      1  \n",
       "2    Now, most of the demonstrators gathered last ...      1  \n",
       "3   A dozen politically active pastors came here f...      0  \n",
       "4   The RS-28 Sarmat missile, dubbed Satan 2, will...      1  \n",
       "5   All we can say on this one is it s about time ...      1  \n",
       "6   DR. BEN CARSON TELLS THE STORY OF WHAT HAPPENE...      1  \n",
       "7                                                          1  \n",
       "8   The owner of the Ringling Bar, located south o...      1  \n",
       "9   FILE – In this Sept. 15, 2005 file photo, the ...      1  \n",
       "10  The most punchable Alt-Right Nazi on the inter...      1  \n",
       "11  BRUSSELS (Reuters) - British Prime Minister Th...      0  \n",
       "12  WASHINGTON (Reuters) - Charles Schumer, the to...      0  \n",
       "13  After watching this telling video, you ll wond...      1  \n",
       "14  As more and more sports fans turn off ESPN to ...      0  \n",
       "15  RIO DE JANEIRO/SAO PAULO (Reuters) - Billionai...      0  \n",
       "16  Europe is likely not going to be a top destina...      1  \n",
       "17  GENEVA (Reuters) - The United Nations called o...      0  \n",
       "18  The Atlantic, a publication that wouldn t know...      1  \n",
       "19  NEW YORK (Reuters) - A second federal judge ha...      0  "
      ]
     },
     "execution_count": 4,
     "metadata": {},
     "output_type": "execute_result"
    }
   ],
   "source": [
    "df = pd.read_csv(\"WELFake_Dataset.csv\")\n",
    "df.head(20)"
   ]
  },
  {
   "cell_type": "code",
   "execution_count": 5,
   "id": "40c340df",
   "metadata": {},
   "outputs": [],
   "source": [
    "df.drop([\"Unnamed: 0\"], axis=1, inplace=True)"
   ]
  },
  {
   "cell_type": "code",
   "execution_count": 6,
   "id": "53097a2e",
   "metadata": {},
   "outputs": [
    {
     "data": {
      "image/png": "[encoded data removed]",
      "text/plain": [
       "<Figure size 640x480 with 1 Axes>"
      ]
     },
     "metadata": {},
     "output_type": "display_data"
    }
   ],
   "source": [
    "df.isnull().sum().plot(kind=\"barh\")\n",
    "plt.show()"
   ]
  },
  {
   "cell_type": "code",
   "execution_count": 7,
   "id": "e1595a7b",
   "metadata": {},
   "outputs": [],
   "source": [
    "df.dropna(subset=['title', 'text', 'label'], inplace=True)"
   ]
  },
  {
   "cell_type": "code",
   "execution_count": 8,
   "id": "87a916a1",
   "metadata": {},
   "outputs": [],
   "source": [
    "X = df['title'] + ' ' + df['text']\n",
    "y = df['label']\n"
   ]
  },
  {
   "cell_type": "code",
   "execution_count": 9,
   "id": "1606cb12",
   "metadata": {},
   "outputs": [
    {
     "data": {
      "text/html": [
       "<div>\n",
       "<style scoped>\n",
       "    .dataframe tbody tr th:only-of-type {\n",
       "        vertical-align: middle;\n",
       "    }\n",
       "\n",
       "    .dataframe tbody tr th {\n",
       "        vertical-align: top;\n",
       "    }\n",
       "\n",
       "    .dataframe thead th {\n",
       "        text-align: right;\n",
       "    }\n",
       "</style>\n",
       "<table border=\"1\" class=\"dataframe\">\n",
       "  <thead>\n",
       "    <tr style=\"text-align: right;\">\n",
       "      <th></th>\n",
       "      <th>title</th>\n",
       "      <th>text</th>\n",
       "      <th>label</th>\n",
       "      <th>title_text</th>\n",
       "      <th>body_len</th>\n",
       "    </tr>\n",
       "  </thead>\n",
       "  <tbody>\n",
       "    <tr>\n",
       "      <th>0</th>\n",
       "      <td>LAW ENFORCEMENT ON HIGH ALERT Following Threat...</td>\n",
       "      <td>No comment is expected from Barack Obama Membe...</td>\n",
       "      <td>1</td>\n",
       "      <td>LAW ENFORCEMENT ON HIGH ALERT Following Threat...</td>\n",
       "      <td>4222</td>\n",
       "    </tr>\n",
       "    <tr>\n",
       "      <th>2</th>\n",
       "      <td>UNBELIEVABLE! OBAMA’S ATTORNEY GENERAL SAYS MO...</td>\n",
       "      <td>Now, most of the demonstrators gathered last ...</td>\n",
       "      <td>1</td>\n",
       "      <td>UNBELIEVABLE! OBAMA’S ATTORNEY GENERAL SAYS MO...</td>\n",
       "      <td>299</td>\n",
       "    </tr>\n",
       "    <tr>\n",
       "      <th>3</th>\n",
       "      <td>Bobby Jindal, raised Hindu, uses story of Chri...</td>\n",
       "      <td>A dozen politically active pastors came here f...</td>\n",
       "      <td>0</td>\n",
       "      <td>Bobby Jindal, raised Hindu, uses story of Chri...</td>\n",
       "      <td>6811</td>\n",
       "    </tr>\n",
       "    <tr>\n",
       "      <th>4</th>\n",
       "      <td>SATAN 2: Russia unvelis an image of its terrif...</td>\n",
       "      <td>The RS-28 Sarmat missile, dubbed Satan 2, will...</td>\n",
       "      <td>1</td>\n",
       "      <td>SATAN 2: Russia unvelis an image of its terrif...</td>\n",
       "      <td>1668</td>\n",
       "    </tr>\n",
       "    <tr>\n",
       "      <th>5</th>\n",
       "      <td>About Time! Christian Group Sues Amazon and SP...</td>\n",
       "      <td>All we can say on this one is it s about time ...</td>\n",
       "      <td>1</td>\n",
       "      <td>About Time! Christian Group Sues Amazon and SP...</td>\n",
       "      <td>1342</td>\n",
       "    </tr>\n",
       "  </tbody>\n",
       "</table>\n",
       "</div>"
      ],
      "text/plain": [
       "                                               title  \\\n",
       "0  LAW ENFORCEMENT ON HIGH ALERT Following Threat...   \n",
       "2  UNBELIEVABLE! OBAMA’S ATTORNEY GENERAL SAYS MO...   \n",
       "3  Bobby Jindal, raised Hindu, uses story of Chri...   \n",
       "4  SATAN 2: Russia unvelis an image of its terrif...   \n",
       "5  About Time! Christian Group Sues Amazon and SP...   \n",
       "\n",
       "                                                text  label  \\\n",
       "0  No comment is expected from Barack Obama Membe...      1   \n",
       "2   Now, most of the demonstrators gathered last ...      1   \n",
       "3  A dozen politically active pastors came here f...      0   \n",
       "4  The RS-28 Sarmat missile, dubbed Satan 2, will...      1   \n",
       "5  All we can say on this one is it s about time ...      1   \n",
       "\n",
       "                                          title_text  body_len  \n",
       "0  LAW ENFORCEMENT ON HIGH ALERT Following Threat...      4222  \n",
       "2  UNBELIEVABLE! OBAMA’S ATTORNEY GENERAL SAYS MO...       299  \n",
       "3  Bobby Jindal, raised Hindu, uses story of Chri...      6811  \n",
       "4  SATAN 2: Russia unvelis an image of its terrif...      1668  \n",
       "5  About Time! Christian Group Sues Amazon and SP...      1342  "
      ]
     },
     "execution_count": 9,
     "metadata": {},
     "output_type": "execute_result"
    }
   ],
   "source": [
    "df[\"title_text\"] = df[\"title\"] + df[\"text\"]\n",
    "df[\"body_len\"] = df[\"title_text\"].apply(lambda x: len(x) - x.count(\" \"))\n",
    "df.head()\n"
   ]
  },
  {
   "cell_type": "code",
   "execution_count": 10,
   "id": "2d888249",
   "metadata": {},
   "outputs": [
    {
     "data": {
      "image/png": "[encoded data removed]",
      "text/plain": [
       "<Figure size 640x480 with 1 Axes>"
      ]
     },
     "metadata": {},
     "output_type": "display_data"
    }
   ],
   "source": [
    "bins = np.linspace(0, 200, 40)\n",
    "\n",
    "plt.hist(df[df[\"label\"]== 1][\"body_len\"], bins, alpha=0.5, label=\"Fake\", color=\"blue\")\n",
    "plt.hist(df[df[\"label\"]== 0][\"body_len\"], bins, alpha=0.5, label=\"Real\", color=\"red\")\n",
    "plt.legend(loc=\"upper left\")\n",
    "plt.show()"
   ]
  },
  {
   "cell_type": "code",
   "execution_count": 11,
   "id": "61853d66",
   "metadata": {},
   "outputs": [],
   "source": [
    "X_train, X_test, y_train, y_test = train_test_split(X, y, test_size=0.5, random_state=42)"
   ]
  },
  {
   "cell_type": "code",
   "execution_count": 12,
   "id": "f76937f1",
   "metadata": {},
   "outputs": [],
   "source": [
    "vectorizer = CountVectorizer()\n",
    "X_train_vectorized = vectorizer.fit_transform(X_train)\n",
    "X_test_vectorized = vectorizer.transform(X_test)\n"
   ]
  },
  {
   "cell_type": "code",
   "execution_count": 13,
   "id": "a3ac0431",
   "metadata": {},
   "outputs": [
    {
     "name": "stdout",
     "output_type": "stream",
     "text": [
      "Naive Bayes Classification Report:\n",
      "               precision    recall  f1-score   support\n",
      "\n",
      "           0       0.88      0.90      0.89     17542\n",
      "           1       0.90      0.88      0.89     18227\n",
      "\n",
      "    accuracy                           0.89     35769\n",
      "   macro avg       0.89      0.89      0.89     35769\n",
      "weighted avg       0.89      0.89      0.89     35769\n",
      "\n"
     ]
    }
   ],
   "source": [
    "naive_bayes = MultinomialNB()\n",
    "naive_bayes.fit(X_train_vectorized, y_train)\n",
    "y_pred_nb = naive_bayes.predict(X_test_vectorized)\n",
    "classification_rep_nb = classification_report(y_test, y_pred_nb)\n",
    "print(\"Naive Bayes Classification Report:\\n\", classification_rep_nb)"
   ]
  },
  {
   "cell_type": "code",
   "execution_count": 14,
   "id": "bbab9331",
   "metadata": {},
   "outputs": [
    {
     "name": "stdout",
     "output_type": "stream",
     "text": [
      "Decision Tree Classification Report:\n",
      "               precision    recall  f1-score   support\n",
      "\n",
      "           0       0.94      0.92      0.93     17542\n",
      "           1       0.93      0.94      0.94     18227\n",
      "\n",
      "    accuracy                           0.93     35769\n",
      "   macro avg       0.94      0.93      0.93     35769\n",
      "weighted avg       0.93      0.93      0.93     35769\n",
      "\n"
     ]
    }
   ],
   "source": [
    "mdecision_tree = DecisionTreeClassifier()\n",
    "mdecision_tree.fit(X_train_vectorized, y_train)\n",
    "y_pred_dt = mdecision_tree.predict(X_test_vectorized)\n",
    "classification_rep_dt = classification_report(y_test, y_pred_dt)\n",
    "print(\"Decision Tree Classification Report:\\n\", classification_rep_dt)"
   ]
  },
  {
   "cell_type": "code",
   "execution_count": 15,
   "id": "910aa8f4",
   "metadata": {},
   "outputs": [
    {
     "name": "stdout",
     "output_type": "stream",
     "text": [
      "Logistic Regression Classification Report:\n",
      "               precision    recall  f1-score   support\n",
      "\n",
      "           0       0.96      0.95      0.96     17542\n",
      "           1       0.95      0.96      0.96     18227\n",
      "\n",
      "    accuracy                           0.96     35769\n",
      "   macro avg       0.96      0.96      0.96     35769\n",
      "weighted avg       0.96      0.96      0.96     35769\n",
      "\n"
     ]
    }
   ],
   "source": [
    "logistic_regression = LogisticRegression(max_iter=5000)\n",
    "logistic_regression.fit(X_train_vectorized, y_train)\n",
    "y_pred_lr = logistic_regression.predict(X_test_vectorized)\n",
    "classification_rep_lr = classification_report(y_test, y_pred_lr)\n",
    "print(\"Logistic Regression Classification Report:\\n\", classification_rep_lr)"
   ]
  },
  {
   "cell_type": "code",
   "execution_count": 22,
   "id": "0abe6fdd",
   "metadata": {},
   "outputs": [],
   "source": [
    "accuracy_nb = naive_bayes.score(X_test_vectorized, y_test)\n",
    "accuracy_dt = mdecision_tree.score(X_test_vectorized, y_test)\n",
    "accuracy_lr = logistic_regression.score(X_test_vectorized, y_test)"
   ]
  },
  {
   "cell_type": "code",
   "execution_count": 23,
   "id": "671e79a9",
   "metadata": {},
   "outputs": [],
   "source": [
    "models = ['Naive Bayes', 'Decision Tree', 'Logistic Regression']\n",
    "accuracy_scores = [accuracy_nb, accuracy_dt, accuracy_lr]\n",
    "precision_scores = [precision_nb, precision_dt, precision_lr]\n",
    "recall_scores = [recall_nb, recall_dt, recall_lr]\n",
    "f1_scores = [f1_nb, f1_dt, f1_lr]"
   ]
  },
  {
   "cell_type": "code",
   "execution_count": 24,
   "id": "9aaac4ff",
   "metadata": {},
   "outputs": [
    {
     "data": {
      "text/plain": [
       "<Figure size 1000x600 with 0 Axes>"
      ]
     },
     "metadata": {},
     "output_type": "display_data"
    }
   ],
   "source": [
    "plt.figure(figsize=(10, 6))\n",
    "\n",
    "bar_width = 0.2\n",
    "index = np.arange(len(models))"
   ]
  },
  {
   "cell_type": "code",
   "execution_count": 26,
   "id": "f347e0c3",
   "metadata": {},
   "outputs": [
    {
     "data": {
      "image/png": "[encoded data removed]",
      "text/plain": [
       "<Figure size 640x480 with 1 Axes>"
      ]
     },
     "metadata": {},
     "output_type": "display_data"
    }
   ],
   "source": [
    "plt.bar(index, accuracy_scores, width=bar_width, label='Accuracy')\n",
    "plt.bar(index + bar_width, precision_scores, width=bar_width, label='Precision')\n",
    "plt.bar(index + 2 * bar_width, recall_scores, width=bar_width, label='Recall')\n",
    "plt.bar(index + 3 * bar_width, f1_scores, width=bar_width, label='F1-Score')\n",
    "\n",
    "plt.title('Comparison of Classification Metrics')\n",
    "plt.xlabel('Models')\n",
    "plt.ylabel('Score')\n",
    "plt.xticks(index + 1.5 * bar_width, models)\n",
    "plt.legend()\n",
    "\n",
    "# Add accuracy scores as text on top of the bars\n",
    "for i in range(len(models)):\n",
    "    plt.text(index[i], accuracy_scores[i], round(accuracy_scores[i], 2),\n",
    "             ha='center', va='bottom', fontweight='bold')\n",
    "\n",
    "# Add precision scores as text on top of the bars\n",
    "for i in range(len(models)):\n",
    "    plt.text(index[i] + bar_width, precision_scores[i], round(precision_scores[i], 2),\n",
    "             ha='center', va='bottom', fontweight='bold')\n",
    "\n",
    "# Add recall scores as text on top of the bars\n",
    "for i in range(len(models)):\n",
    "    plt.text(index[i] + 2 * bar_width, recall_scores[i], round(recall_scores[i], 2),\n",
    "             ha='center', va='bottom', fontweight='bold')\n",
    "\n",
    "# Add F1-scores as text on top of the bars\n",
    "for i in range(len(models)):\n",
    "    plt.text(index[i] + 3 * bar_width, f1_scores[i], round(f1_scores[i], 2),\n",
    "             ha='center', va='bottom', fontweight='bold')\n",
    "\n",
    "plt.tight_layout()\n",
    "plt.show()"
   ]
  },
  {
   "cell_type": "code",
   "execution_count": null,
   "id": "4d6570dd",
   "metadata": {},
   "outputs": [],
   "source": []
  }
 ],
 "metadata": {
  "kernelspec": {
   "display_name": "Python 3 (ipykernel)",
   "language": "python",
   "name": "python3"
  },
  "language_info": {
   "codemirror_mode": {
    "name": "ipython",
    "version": 3
   },
   "file_extension": ".py",
   "mimetype": "text/x-python",
   "name": "python",
   "nbconvert_exporter": "python",
   "pygments_lexer": "ipython3",
   "version": "3.10.9"
  }
 },
 "nbformat": 4,
 "nbformat_minor": 5
}
